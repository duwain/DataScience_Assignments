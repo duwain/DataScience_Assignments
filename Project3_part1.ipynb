{
 "cells": [
  {
   "cell_type": "code",
   "execution_count": null,
   "metadata": {},
   "outputs": [],
   "source": [
    "import numpy as np # linear algebra\n",
    "import pandas as pd"
   ]
  },
  {
   "cell_type": "code",
   "execution_count": null,
   "metadata": {},
   "outputs": [],
   "source": [
    "df_ratings = pd.read_csv('C:/Users/x473970/Downloads/title.ratings.tsv.gz', compression='gzip', \n",
    "                                 header=0, sep='\\t', quotechar='\"')"
   ]
  },
  {
   "cell_type": "code",
   "execution_count": null,
   "metadata": {},
   "outputs": [],
   "source": [
    "df_ratings.head()"
   ]
  },
  {
   "cell_type": "code",
   "execution_count": null,
   "metadata": {},
   "outputs": [],
   "source": [
    "df_basics = pd.read_csv(r'C:\\Users\\x473970\\Downloads\\title.basics.tsv.gz', compression='gzip', \n",
    "                                 header=0, sep='\\t', quotechar='\"',encoding='utf-8')"
   ]
  },
  {
   "cell_type": "code",
   "execution_count": null,
   "metadata": {},
   "outputs": [],
   "source": [
    "df_basics.head()"
   ]
  },
  {
   "cell_type": "code",
   "execution_count": null,
   "metadata": {},
   "outputs": [],
   "source": [
    "df_basics.info()"
   ]
  },
  {
   "cell_type": "code",
   "execution_count": null,
   "metadata": {},
   "outputs": [],
   "source": [
    "df_basics['genres'].replace(\"\\\\N\" \"\", inplace=True)\n",
    "df_basics['runtimeMinutes'].replace(\"\\\\N\" \"\", inplace=True)\n",
    "df_basics.dropna(subset=['genres','runtimeMinutes'], inplace=True)"
   ]
  },
  {
   "cell_type": "code",
   "execution_count": null,
   "metadata": {},
   "outputs": [],
   "source": [
    "df_basics.info()"
   ]
  },
  {
   "cell_type": "code",
   "execution_count": null,
   "metadata": {},
   "outputs": [],
   "source": [
    "filter = df_basics[\"titleType\"] != \"short\"\n",
    "df_basics = df_basics[filter]"
   ]
  },
  {
   "cell_type": "code",
   "execution_count": null,
   "metadata": {},
   "outputs": [],
   "source": [
    "df_basics.head()"
   ]
  },
  {
   "cell_type": "code",
   "execution_count": null,
   "metadata": {},
   "outputs": [],
   "source": [
    "df_basics['startYear'].replace(\"\\\\N\" \"\", inplace=True)\n",
    "df_basics['startYear'].fillna(value = -1, inplace = True)"
   ]
  },
  {
   "cell_type": "code",
   "execution_count": null,
   "metadata": {},
   "outputs": [],
   "source": [
    "df_basics['startYear'] = pd.to_numeric(df_basics['startYear'])\n",
    "df_basics.info()"
   ]
  },
  {
   "cell_type": "code",
   "execution_count": null,
   "metadata": {},
   "outputs": [],
   "source": [
    "filter = df_basics[\"startYear\"].astype(int) <= 2021\n",
    "df_basics = df_basics[filter]"
   ]
  },
  {
   "cell_type": "code",
   "execution_count": null,
   "metadata": {},
   "outputs": [],
   "source": [
    "filter = df_basics[\"startYear\"].astype(int) >= 2000\n",
    "df_basics = df_basics[filter]"
   ]
  },
  {
   "cell_type": "code",
   "execution_count": null,
   "metadata": {},
   "outputs": [],
   "source": [
    "df_basics.head()"
   ]
  },
  {
   "cell_type": "code",
   "execution_count": null,
   "metadata": {},
   "outputs": [],
   "source": [
    "filter = df_basics[\"genres\"] = \"fiction\"\n",
    "df_basics = df_basics[filter]"
   ]
  },
  {
   "cell_type": "code",
   "execution_count": null,
   "metadata": {},
   "outputs": [],
   "source": [
    "df_basics.head()"
   ]
  },
  {
   "cell_type": "code",
   "execution_count": null,
   "metadata": {},
   "outputs": [],
   "source": [
    "df_basics.to_csv('title.basics.csv.gz', compression='gzip')"
   ]
  },
  {
   "cell_type": "code",
   "execution_count": null,
   "metadata": {},
   "outputs": [],
   "source": [
    "df_akas = pd.read_csv('C:/Users/x473970/Downloads/title.akas.tsv.gz', compression='gzip', \n",
    "                                 header=0, sep='\\t', quotechar='\"')"
   ]
  },
  {
   "cell_type": "code",
   "execution_count": null,
   "metadata": {},
   "outputs": [],
   "source": [
    "df_akas.head()"
   ]
  },
  {
   "cell_type": "code",
   "execution_count": null,
   "metadata": {},
   "outputs": [],
   "source": [
    "df_akas['region'].replace(\"\\\\N\" \"\", inplace=True)\n",
    "df_akas.dropna(subset=['region'], inplace=True)"
   ]
  },
  {
   "cell_type": "code",
   "execution_count": null,
   "metadata": {},
   "outputs": [],
   "source": [
    "filter = df_akas['region'] = 'US'\n",
    "df_akas = df_akas[filter]"
   ]
  },
  {
   "cell_type": "code",
   "execution_count": null,
   "metadata": {},
   "outputs": [],
   "source": [
    "df_akas.head()"
   ]
  },
  {
   "cell_type": "code",
   "execution_count": null,
   "metadata": {},
   "outputs": [],
   "source": [
    "df_akas.to_csv('title.akas.csv.gz', compression='gzip')"
   ]
  },
  {
   "cell_type": "code",
   "execution_count": null,
   "metadata": {},
   "outputs": [],
   "source": [
    "df_ratings.to_csv('title.ratings.csv.gz', compression='gzip')"
   ]
  },
  {
   "cell_type": "code",
   "execution_count": 31,
   "metadata": {},
   "outputs": [
    {
     "name": "stdout",
     "output_type": "stream",
     "text": [
      "<class 'pandas.core.frame.DataFrame'>\n",
      "Int64Index: 37527037 entries, 0 to 37527209\n",
      "Data columns (total 8 columns):\n",
      " #   Column           Dtype \n",
      "---  ------           ----- \n",
      " 0   titleId          object\n",
      " 1   ordering         int64 \n",
      " 2   title            object\n",
      " 3   region           object\n",
      " 4   language         object\n",
      " 5   types            object\n",
      " 6   attributes       object\n",
      " 7   isOriginalTitle  object\n",
      "dtypes: int64(1), object(7)\n",
      "memory usage: 2.5+ GB\n"
     ]
    }
   ],
   "source": [
    "df_akas.info()"
   ]
  },
  {
   "cell_type": "code",
   "execution_count": 32,
   "metadata": {},
   "outputs": [
    {
     "name": "stdout",
     "output_type": "stream",
     "text": [
      "<class 'pandas.core.frame.DataFrame'>\n",
      "Int64Index: 6413820 entries, 11636 to 10248780\n",
      "Data columns (total 9 columns):\n",
      " #   Column          Dtype \n",
      "---  ------          ----- \n",
      " 0   tconst          object\n",
      " 1   titleType       object\n",
      " 2   primaryTitle    object\n",
      " 3   originalTitle   object\n",
      " 4   isAdult         object\n",
      " 5   startYear       int64 \n",
      " 6   endYear         object\n",
      " 7   runtimeMinutes  object\n",
      " 8   genres          object\n",
      "dtypes: int64(1), object(8)\n",
      "memory usage: 489.3+ MB\n"
     ]
    }
   ],
   "source": [
    "df_basics.info()"
   ]
  },
  {
   "cell_type": "code",
   "execution_count": 33,
   "metadata": {},
   "outputs": [
    {
     "name": "stdout",
     "output_type": "stream",
     "text": [
      "<class 'pandas.core.frame.DataFrame'>\n",
      "RangeIndex: 1360556 entries, 0 to 1360555\n",
      "Data columns (total 3 columns):\n",
      " #   Column         Non-Null Count    Dtype  \n",
      "---  ------         --------------    -----  \n",
      " 0   tconst         1360556 non-null  object \n",
      " 1   averageRating  1360556 non-null  float64\n",
      " 2   numVotes       1360556 non-null  int64  \n",
      "dtypes: float64(1), int64(1), object(1)\n",
      "memory usage: 31.1+ MB\n"
     ]
    }
   ],
   "source": [
    "df_ratings.info()"
   ]
  },
  {
   "cell_type": "code",
   "execution_count": null,
   "metadata": {},
   "outputs": [],
   "source": []
  }
 ],
 "metadata": {
  "kernelspec": {
   "display_name": "Python 3.8.5 ('base')",
   "language": "python",
   "name": "python3"
  },
  "language_info": {
   "codemirror_mode": {
    "name": "ipython",
    "version": 3
   },
   "file_extension": ".py",
   "mimetype": "text/x-python",
   "name": "python",
   "nbconvert_exporter": "python",
   "pygments_lexer": "ipython3",
   "version": "3.8.5"
  },
  "orig_nbformat": 4,
  "vscode": {
   "interpreter": {
    "hash": "ad2bdc8ecc057115af97d19610ffacc2b4e99fae6737bb82f5d7fb13d2f2c186"
   }
  }
 },
 "nbformat": 4,
 "nbformat_minor": 2
}
